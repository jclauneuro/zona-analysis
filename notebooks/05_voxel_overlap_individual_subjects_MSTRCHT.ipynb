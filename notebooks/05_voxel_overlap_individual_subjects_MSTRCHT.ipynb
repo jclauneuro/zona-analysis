{
 "cells": [
  {
   "cell_type": "markdown",
   "metadata": {},
   "source": [
    "# Voxel Overlap for Individual Subject Segmentations\n",
    "\n",
    "Metrics for reliability of segmentations of individual subject data (replication in Maastricht dataset)."
   ]
  },
  {
   "cell_type": "code",
   "execution_count": 1,
   "metadata": {},
   "outputs": [],
   "source": [
    "# initialize libraries\n",
    "library(plyr)\n",
    "#library(dplyr)\n",
    "library(digest)\n",
    "library(reshape2)\n",
    "#library(ggplot2)"
   ]
  },
  {
   "cell_type": "code",
   "execution_count": 2,
   "metadata": {},
   "outputs": [
    {
     "data": {
      "text/html": [
       "<table>\n",
       "<thead><tr><th scope=col>roi</th><th scope=col>mean_jaccard</th><th scope=col>sd_jaccard</th><th scope=col>mean_kappa</th><th scope=col>sd_kappa</th></tr></thead>\n",
       "<tbody>\n",
       "\t<tr><td>cZI       </td><td>0.6169908 </td><td>0.04745324</td><td>0.7621714 </td><td>0.03647677</td></tr>\n",
       "\t<tr><td>fct       </td><td>0.5472216 </td><td>0.04822978</td><td>0.7062619 </td><td>0.03917878</td></tr>\n",
       "\t<tr><td>fl        </td><td>0.4546741 </td><td>0.06740525</td><td>0.6223991 </td><td>0.06532393</td></tr>\n",
       "\t<tr><td>ft        </td><td>0.4718758 </td><td>0.07307350</td><td>0.6382655 </td><td>0.06549654</td></tr>\n",
       "\t<tr><td>hf        </td><td>0.5400401 </td><td>0.05854323</td><td>0.6996574 </td><td>0.04899930</td></tr>\n",
       "\t<tr><td>hfields   </td><td>0.5337963 </td><td>0.04310291</td><td>0.6951299 </td><td>0.03622558</td></tr>\n",
       "\t<tr><td>ml        </td><td>0.5252642 </td><td>0.06357450</td><td>0.6867789 </td><td>0.05264327</td></tr>\n",
       "\t<tr><td>rZI       </td><td>0.5157302 </td><td>0.04452696</td><td>0.6795020 </td><td>0.03790955</td></tr>\n",
       "\t<tr><td>ZI        </td><td>0.5593095 </td><td>0.04366651</td><td>0.7164844 </td><td>0.03558823</td></tr>\n",
       "</tbody>\n",
       "</table>\n"
      ],
      "text/latex": [
       "\\begin{tabular}{r|lllll}\n",
       " roi & mean\\_jaccard & sd\\_jaccard & mean\\_kappa & sd\\_kappa\\\\\n",
       "\\hline\n",
       "\t cZI        & 0.6169908  & 0.04745324 & 0.7621714  & 0.03647677\\\\\n",
       "\t fct        & 0.5472216  & 0.04822978 & 0.7062619  & 0.03917878\\\\\n",
       "\t fl         & 0.4546741  & 0.06740525 & 0.6223991  & 0.06532393\\\\\n",
       "\t ft         & 0.4718758  & 0.07307350 & 0.6382655  & 0.06549654\\\\\n",
       "\t hf         & 0.5400401  & 0.05854323 & 0.6996574  & 0.04899930\\\\\n",
       "\t hfields    & 0.5337963  & 0.04310291 & 0.6951299  & 0.03622558\\\\\n",
       "\t ml         & 0.5252642  & 0.06357450 & 0.6867789  & 0.05264327\\\\\n",
       "\t rZI        & 0.5157302  & 0.04452696 & 0.6795020  & 0.03790955\\\\\n",
       "\t ZI         & 0.5593095  & 0.04366651 & 0.7164844  & 0.03558823\\\\\n",
       "\\end{tabular}\n"
      ],
      "text/markdown": [
       "\n",
       "| roi | mean_jaccard | sd_jaccard | mean_kappa | sd_kappa |\n",
       "|---|---|---|---|---|\n",
       "| cZI        | 0.6169908  | 0.04745324 | 0.7621714  | 0.03647677 |\n",
       "| fct        | 0.5472216  | 0.04822978 | 0.7062619  | 0.03917878 |\n",
       "| fl         | 0.4546741  | 0.06740525 | 0.6223991  | 0.06532393 |\n",
       "| ft         | 0.4718758  | 0.07307350 | 0.6382655  | 0.06549654 |\n",
       "| hf         | 0.5400401  | 0.05854323 | 0.6996574  | 0.04899930 |\n",
       "| hfields    | 0.5337963  | 0.04310291 | 0.6951299  | 0.03622558 |\n",
       "| ml         | 0.5252642  | 0.06357450 | 0.6867789  | 0.05264327 |\n",
       "| rZI        | 0.5157302  | 0.04452696 | 0.6795020  | 0.03790955 |\n",
       "| ZI         | 0.5593095  | 0.04366651 | 0.7164844  | 0.03558823 |\n",
       "\n"
      ],
      "text/plain": [
       "  roi     mean_jaccard sd_jaccard mean_kappa sd_kappa  \n",
       "1 cZI     0.6169908    0.04745324 0.7621714  0.03647677\n",
       "2 fct     0.5472216    0.04822978 0.7062619  0.03917878\n",
       "3 fl      0.4546741    0.06740525 0.6223991  0.06532393\n",
       "4 ft      0.4718758    0.07307350 0.6382655  0.06549654\n",
       "5 hf      0.5400401    0.05854323 0.6996574  0.04899930\n",
       "6 hfields 0.5337963    0.04310291 0.6951299  0.03622558\n",
       "7 ml      0.5252642    0.06357450 0.6867789  0.05264327\n",
       "8 rZI     0.5157302    0.04452696 0.6795020  0.03790955\n",
       "9 ZI      0.5593095    0.04366651 0.7164844  0.03558823"
      ]
     },
     "metadata": {},
     "output_type": "display_data"
    }
   ],
   "source": [
    "# initialize variables and calculate jaccard/kappa\n",
    "df_ZIR_rater <- read.table('../data/voxel_overlap_individual_subjects/voxel_overlap_individual_subjects_MSTRCHT.csv', sep=\",\", header=TRUE)\n",
    "\n",
    "# calculate jaccard\n",
    "df_ZIR_rater$jaccard = df_ZIR_rater$intersection / df_ZIR_rater$union\n",
    "\n",
    "# calculate kappa (i.e. dice)\n",
    "df_ZIR_rater$kappa = (2*df_ZIR_rater$intersection) / (df_ZIR_rater$id_vol + df_ZIR_rater$truth_vol)\n",
    "\n",
    "summary_ZIR_rater <- ddply(df_ZIR_rater, .(roi,side), summarize, mean_jaccard = mean(jaccard), sd_jaccard = sd(jaccard), mean_kappa = mean(kappa), sd_kappa = sd(kappa))\n",
    "\n",
    "summary_all_noside <- ddply(df_ZIR_rater, .(roi), summarize, mean_jaccard = mean(jaccard), sd_jaccard = sd(jaccard), mean_kappa = mean(kappa), sd_kappa = sd(kappa))\n",
    "summary_all_noside"
   ]
  },
  {
   "cell_type": "code",
   "execution_count": 3,
   "metadata": {},
   "outputs": [
    {
     "data": {
      "text/html": [
       "<table>\n",
       "<thead><tr><th scope=col>roi</th><th scope=col>side</th><th scope=col>jaccard</th><th scope=col>kappa</th></tr></thead>\n",
       "<tbody>\n",
       "\t<tr><td>cZI      </td><td>L        </td><td>0.64±0.04</td><td>0.78±0.03</td></tr>\n",
       "\t<tr><td>cZI      </td><td>R        </td><td>0.59±0.04</td><td>0.74±0.03</td></tr>\n",
       "\t<tr><td>fct      </td><td>L        </td><td>0.53±0.03</td><td>0.69±0.03</td></tr>\n",
       "\t<tr><td>fct      </td><td>R        </td><td>0.56±0.06</td><td>0.72±0.05</td></tr>\n",
       "\t<tr><td>fl       </td><td>L        </td><td>0.46±0.07</td><td>0.63±0.07</td></tr>\n",
       "\t<tr><td>fl       </td><td>R        </td><td>0.45±0.07</td><td>0.61±0.07</td></tr>\n",
       "\t<tr><td>ft       </td><td>L        </td><td>0.47±0.07</td><td>0.63±0.07</td></tr>\n",
       "\t<tr><td>ft       </td><td>R        </td><td>0.48±0.08</td><td>0.64±0.07</td></tr>\n",
       "\t<tr><td>hf       </td><td>L        </td><td>0.53±0.07</td><td>0.69±0.06</td></tr>\n",
       "\t<tr><td>hf       </td><td>R        </td><td>0.55±0.05</td><td>0.71±0.04</td></tr>\n",
       "\t<tr><td>hfields  </td><td>L        </td><td>0.53±0.05</td><td>0.69±0.04</td></tr>\n",
       "\t<tr><td>hfields  </td><td>R        </td><td>0.54±0.04</td><td>0.70±0.04</td></tr>\n",
       "\t<tr><td>ml       </td><td>L        </td><td>0.52±0.05</td><td>0.68±0.04</td></tr>\n",
       "\t<tr><td>ml       </td><td>R        </td><td>0.53±0.08</td><td>0.69±0.07</td></tr>\n",
       "\t<tr><td>rZI      </td><td>L        </td><td>0.52±0.04</td><td>0.68±0.03</td></tr>\n",
       "\t<tr><td>rZI      </td><td>R        </td><td>0.51±0.05</td><td>0.68±0.04</td></tr>\n",
       "\t<tr><td>ZI       </td><td>L        </td><td>0.57±0.03</td><td>0.73±0.03</td></tr>\n",
       "\t<tr><td>ZI       </td><td>R        </td><td>0.55±0.05</td><td>0.71±0.04</td></tr>\n",
       "</tbody>\n",
       "</table>\n"
      ],
      "text/latex": [
       "\\begin{tabular}{r|llll}\n",
       " roi & side & jaccard & kappa\\\\\n",
       "\\hline\n",
       "\t cZI       & L         & 0.64±0.04 & 0.78±0.03\\\\\n",
       "\t cZI       & R         & 0.59±0.04 & 0.74±0.03\\\\\n",
       "\t fct       & L         & 0.53±0.03 & 0.69±0.03\\\\\n",
       "\t fct       & R         & 0.56±0.06 & 0.72±0.05\\\\\n",
       "\t fl        & L         & 0.46±0.07 & 0.63±0.07\\\\\n",
       "\t fl        & R         & 0.45±0.07 & 0.61±0.07\\\\\n",
       "\t ft        & L         & 0.47±0.07 & 0.63±0.07\\\\\n",
       "\t ft        & R         & 0.48±0.08 & 0.64±0.07\\\\\n",
       "\t hf        & L         & 0.53±0.07 & 0.69±0.06\\\\\n",
       "\t hf        & R         & 0.55±0.05 & 0.71±0.04\\\\\n",
       "\t hfields   & L         & 0.53±0.05 & 0.69±0.04\\\\\n",
       "\t hfields   & R         & 0.54±0.04 & 0.70±0.04\\\\\n",
       "\t ml        & L         & 0.52±0.05 & 0.68±0.04\\\\\n",
       "\t ml        & R         & 0.53±0.08 & 0.69±0.07\\\\\n",
       "\t rZI       & L         & 0.52±0.04 & 0.68±0.03\\\\\n",
       "\t rZI       & R         & 0.51±0.05 & 0.68±0.04\\\\\n",
       "\t ZI        & L         & 0.57±0.03 & 0.73±0.03\\\\\n",
       "\t ZI        & R         & 0.55±0.05 & 0.71±0.04\\\\\n",
       "\\end{tabular}\n"
      ],
      "text/markdown": [
       "\n",
       "| roi | side | jaccard | kappa |\n",
       "|---|---|---|---|\n",
       "| cZI       | L         | 0.64±0.04 | 0.78±0.03 |\n",
       "| cZI       | R         | 0.59±0.04 | 0.74±0.03 |\n",
       "| fct       | L         | 0.53±0.03 | 0.69±0.03 |\n",
       "| fct       | R         | 0.56±0.06 | 0.72±0.05 |\n",
       "| fl        | L         | 0.46±0.07 | 0.63±0.07 |\n",
       "| fl        | R         | 0.45±0.07 | 0.61±0.07 |\n",
       "| ft        | L         | 0.47±0.07 | 0.63±0.07 |\n",
       "| ft        | R         | 0.48±0.08 | 0.64±0.07 |\n",
       "| hf        | L         | 0.53±0.07 | 0.69±0.06 |\n",
       "| hf        | R         | 0.55±0.05 | 0.71±0.04 |\n",
       "| hfields   | L         | 0.53±0.05 | 0.69±0.04 |\n",
       "| hfields   | R         | 0.54±0.04 | 0.70±0.04 |\n",
       "| ml        | L         | 0.52±0.05 | 0.68±0.04 |\n",
       "| ml        | R         | 0.53±0.08 | 0.69±0.07 |\n",
       "| rZI       | L         | 0.52±0.04 | 0.68±0.03 |\n",
       "| rZI       | R         | 0.51±0.05 | 0.68±0.04 |\n",
       "| ZI        | L         | 0.57±0.03 | 0.73±0.03 |\n",
       "| ZI        | R         | 0.55±0.05 | 0.71±0.04 |\n",
       "\n"
      ],
      "text/plain": [
       "   roi     side jaccard   kappa    \n",
       "1  cZI     L    0.64±0.04 0.78±0.03\n",
       "2  cZI     R    0.59±0.04 0.74±0.03\n",
       "3  fct     L    0.53±0.03 0.69±0.03\n",
       "4  fct     R    0.56±0.06 0.72±0.05\n",
       "5  fl      L    0.46±0.07 0.63±0.07\n",
       "6  fl      R    0.45±0.07 0.61±0.07\n",
       "7  ft      L    0.47±0.07 0.63±0.07\n",
       "8  ft      R    0.48±0.08 0.64±0.07\n",
       "9  hf      L    0.53±0.07 0.69±0.06\n",
       "10 hf      R    0.55±0.05 0.71±0.04\n",
       "11 hfields L    0.53±0.05 0.69±0.04\n",
       "12 hfields R    0.54±0.04 0.70±0.04\n",
       "13 ml      L    0.52±0.05 0.68±0.04\n",
       "14 ml      R    0.53±0.08 0.69±0.07\n",
       "15 rZI     L    0.52±0.04 0.68±0.03\n",
       "16 rZI     R    0.51±0.05 0.68±0.04\n",
       "17 ZI      L    0.57±0.03 0.73±0.03\n",
       "18 ZI      R    0.55±0.05 0.71±0.04"
      ]
     },
     "metadata": {},
     "output_type": "display_data"
    }
   ],
   "source": [
    "formatted_summary_ZIR_rater <- summary_ZIR_rater[,1:2]\n",
    "\n",
    "formatted_summary_ZIR_rater$jaccard <- paste0(\n",
    "    sprintf( \"%.2f\", round(summary_ZIR_rater$mean_jaccard,2)), '±',\n",
    "    sprintf( \"%.2f\", round(summary_ZIR_rater$sd_jaccard,2)))\n",
    "\n",
    "formatted_summary_ZIR_rater$kappa <- paste0(\n",
    "    sprintf( \"%.2f\", round(summary_ZIR_rater$mean_kappa,2)), '±',\n",
    "    sprintf( \"%.2f\", round(summary_ZIR_rater$sd_kappa,2)))\n",
    "\n",
    "formatted_summary_ZIR_rater\n",
    "\n",
    "write.table(formatted_summary_ZIR_rater, file = \"~/Documents/GitHub/zona-analysis/data/output_tables/SuppTable_voxel_overlap_individual_subjects_MSTRCHT.csv\", row.names = FALSE, quote = FALSE, sep = \",\")"
   ]
  },
  {
   "cell_type": "code",
   "execution_count": 7,
   "metadata": {},
   "outputs": [
    {
     "data": {
      "text/html": [
       "<table>\n",
       "<thead><tr><th scope=col>roi</th><th scope=col>jaccard</th><th scope=col>kappa</th></tr></thead>\n",
       "<tbody>\n",
       "\t<tr><td>cZI      </td><td>0.62±0.05</td><td>0.76±0.04</td></tr>\n",
       "\t<tr><td>fct      </td><td>0.55±0.05</td><td>0.71±0.04</td></tr>\n",
       "\t<tr><td>fl       </td><td>0.45±0.07</td><td>0.62±0.07</td></tr>\n",
       "\t<tr><td>ft       </td><td>0.47±0.07</td><td>0.64±0.07</td></tr>\n",
       "\t<tr><td>hf       </td><td>0.54±0.06</td><td>0.70±0.05</td></tr>\n",
       "\t<tr><td>hfields  </td><td>0.53±0.04</td><td>0.70±0.04</td></tr>\n",
       "\t<tr><td>ml       </td><td>0.53±0.06</td><td>0.69±0.05</td></tr>\n",
       "\t<tr><td>rZI      </td><td>0.52±0.04</td><td>0.68±0.04</td></tr>\n",
       "\t<tr><td>ZI       </td><td>0.56±0.04</td><td>0.72±0.04</td></tr>\n",
       "</tbody>\n",
       "</table>\n"
      ],
      "text/latex": [
       "\\begin{tabular}{r|lll}\n",
       " roi & jaccard & kappa\\\\\n",
       "\\hline\n",
       "\t cZI       & 0.62±0.05 & 0.76±0.04\\\\\n",
       "\t fct       & 0.55±0.05 & 0.71±0.04\\\\\n",
       "\t fl        & 0.45±0.07 & 0.62±0.07\\\\\n",
       "\t ft        & 0.47±0.07 & 0.64±0.07\\\\\n",
       "\t hf        & 0.54±0.06 & 0.70±0.05\\\\\n",
       "\t hfields   & 0.53±0.04 & 0.70±0.04\\\\\n",
       "\t ml        & 0.53±0.06 & 0.69±0.05\\\\\n",
       "\t rZI       & 0.52±0.04 & 0.68±0.04\\\\\n",
       "\t ZI        & 0.56±0.04 & 0.72±0.04\\\\\n",
       "\\end{tabular}\n"
      ],
      "text/markdown": [
       "\n",
       "| roi | jaccard | kappa |\n",
       "|---|---|---|\n",
       "| cZI       | 0.62±0.05 | 0.76±0.04 |\n",
       "| fct       | 0.55±0.05 | 0.71±0.04 |\n",
       "| fl        | 0.45±0.07 | 0.62±0.07 |\n",
       "| ft        | 0.47±0.07 | 0.64±0.07 |\n",
       "| hf        | 0.54±0.06 | 0.70±0.05 |\n",
       "| hfields   | 0.53±0.04 | 0.70±0.04 |\n",
       "| ml        | 0.53±0.06 | 0.69±0.05 |\n",
       "| rZI       | 0.52±0.04 | 0.68±0.04 |\n",
       "| ZI        | 0.56±0.04 | 0.72±0.04 |\n",
       "\n"
      ],
      "text/plain": [
       "  roi     jaccard   kappa    \n",
       "1 cZI     0.62±0.05 0.76±0.04\n",
       "2 fct     0.55±0.05 0.71±0.04\n",
       "3 fl      0.45±0.07 0.62±0.07\n",
       "4 ft      0.47±0.07 0.64±0.07\n",
       "5 hf      0.54±0.06 0.70±0.05\n",
       "6 hfields 0.53±0.04 0.70±0.04\n",
       "7 ml      0.53±0.06 0.69±0.05\n",
       "8 rZI     0.52±0.04 0.68±0.04\n",
       "9 ZI      0.56±0.04 0.72±0.04"
      ]
     },
     "metadata": {},
     "output_type": "display_data"
    }
   ],
   "source": [
    "formatted_summary_all_noside <- summary_all_noside[,1:2]\n",
    "\n",
    "formatted_summary_all_noside$jaccard <- paste0(\n",
    "    sprintf( \"%.2f\", round(summary_all_noside$mean_jaccard,2)), '±',\n",
    "    sprintf( \"%.2f\", round(summary_all_noside$sd_jaccard,2)))\n",
    "\n",
    "formatted_summary_all_noside$kappa <- paste0(\n",
    "    sprintf( \"%.2f\", round(summary_all_noside$mean_kappa,2)), '±',\n",
    "    sprintf( \"%.2f\", round(summary_all_noside$sd_kappa,2)))\n",
    "\n",
    "formatted_summary_all_noside <- formatted_summary_all_noside[,c(1,3,4)]\n",
    "formatted_summary_all_noside\n",
    "\n",
    "# needs to be integrated into main table\n",
    "write.table(formatted_summary_all_noside, file = \"~/Documents/GitHub/zona-analysis/data/output_tables/SuppTable_voxel_overlap_individual_subjects_noside_MSTRCHT.csv\", row.names = FALSE, quote = FALSE, sep = \",\")"
   ]
  },
  {
   "cell_type": "code",
   "execution_count": 5,
   "metadata": {},
   "outputs": [
    {
     "data": {
      "text/plain": [
       "R version 3.6.1 (2019-07-05)\n",
       "Platform: x86_64-apple-darwin13.4.0 (64-bit)\n",
       "Running under: macOS Catalina 10.15.4\n",
       "\n",
       "Matrix products: default\n",
       "BLAS/LAPACK: /Users/jclau/anaconda3/envs/r-tutorial/lib/R/lib/libRblas.dylib\n",
       "\n",
       "locale:\n",
       "[1] en_CA.UTF-8/UTF-8/en_CA.UTF-8/C/en_CA.UTF-8/en_CA.UTF-8\n",
       "\n",
       "attached base packages:\n",
       "[1] stats     graphics  grDevices utils     datasets  methods   base     \n",
       "\n",
       "other attached packages:\n",
       "[1] reshape2_1.4.3 digest_0.6.18  plyr_1.8.4    \n",
       "\n",
       "loaded via a namespace (and not attached):\n",
       " [1] Rcpp_1.0.1      crayon_1.3.4    IRdisplay_0.7.0 repr_0.19.2    \n",
       " [5] jsonlite_1.6    magrittr_1.5    evaluate_0.13   stringi_1.4.3  \n",
       " [9] uuid_0.1-2      IRkernel_0.8.15 tools_3.6.1     stringr_1.4.0  \n",
       "[13] compiler_3.6.1  base64enc_0.1-3 htmltools_0.3.6 pbdZMQ_0.3-3   "
      ]
     },
     "metadata": {},
     "output_type": "display_data"
    }
   ],
   "source": [
    "sessionInfo()"
   ]
  }
 ],
 "metadata": {
  "kernelspec": {
   "display_name": "R",
   "language": "R",
   "name": "ir"
  },
  "language_info": {
   "codemirror_mode": "r",
   "file_extension": ".r",
   "mimetype": "text/x-r-source",
   "name": "R",
   "pygments_lexer": "r",
   "version": "3.6.1"
  }
 },
 "nbformat": 4,
 "nbformat_minor": 2
}

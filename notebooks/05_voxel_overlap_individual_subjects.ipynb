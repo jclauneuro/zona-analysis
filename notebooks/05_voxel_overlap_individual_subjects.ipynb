{
 "cells": [
  {
   "cell_type": "markdown",
   "metadata": {},
   "source": [
    "# Voxel Overlap for Individual Subject Segmentations\n",
    "\n",
    "Metrics for reliability of segmentations of individual subject data."
   ]
  },
  {
   "cell_type": "code",
   "execution_count": 1,
   "metadata": {
    "scrolled": true
   },
   "outputs": [],
   "source": [
    "# initialize libraries\n",
    "library(plyr)\n",
    "#library(dplyr)\n",
    "library(digest)\n",
    "library(reshape2)\n",
    "#library(ggplot2)"
   ]
  },
  {
   "cell_type": "code",
   "execution_count": 2,
   "metadata": {},
   "outputs": [
    {
     "data": {
      "text/html": [
       "<table>\n",
       "<thead><tr><th scope=col>roi</th><th scope=col>mean_jaccard</th><th scope=col>sd_jaccard</th><th scope=col>mean_kappa</th><th scope=col>sd_kappa</th></tr></thead>\n",
       "<tbody>\n",
       "\t<tr><td>cZI        </td><td>0.6096707  </td><td>0.03343030 </td><td>0.7570297  </td><td>0.025695181</td></tr>\n",
       "\t<tr><td>fct        </td><td>0.5493556  </td><td>0.01097301 </td><td>0.7090829  </td><td>0.009077475</td></tr>\n",
       "\t<tr><td>fl         </td><td>0.4584255  </td><td>0.02187019 </td><td>0.6283768  </td><td>0.020851276</td></tr>\n",
       "\t<tr><td>ft         </td><td>0.5250902  </td><td>0.02275830 </td><td>0.6883393  </td><td>0.019569062</td></tr>\n",
       "\t<tr><td>hf         </td><td>0.5533690  </td><td>0.03093163 </td><td>0.7120092  </td><td>0.026049200</td></tr>\n",
       "\t<tr><td>hfields    </td><td>0.5561002  </td><td>0.01872412 </td><td>0.7145675  </td><td>0.015537535</td></tr>\n",
       "\t<tr><td>ml         </td><td>0.5751484  </td><td>0.02380741 </td><td>0.7300193  </td><td>0.019047913</td></tr>\n",
       "\t<tr><td>RN         </td><td>0.8329621  </td><td>0.03730813 </td><td>0.9084541  </td><td>0.022709268</td></tr>\n",
       "\t<tr><td>rZI        </td><td>0.5099328  </td><td>0.01401078 </td><td>0.6753348  </td><td>0.012333886</td></tr>\n",
       "\t<tr><td>STN        </td><td>0.6418298  </td><td>0.04320338 </td><td>0.7810864  </td><td>0.032118781</td></tr>\n",
       "\t<tr><td>ZI         </td><td>0.5571780  </td><td>0.01201240 </td><td>0.7155565  </td><td>0.009916536</td></tr>\n",
       "</tbody>\n",
       "</table>\n"
      ],
      "text/latex": [
       "\\begin{tabular}{r|lllll}\n",
       " roi & mean\\_jaccard & sd\\_jaccard & mean\\_kappa & sd\\_kappa\\\\\n",
       "\\hline\n",
       "\t cZI         & 0.6096707   & 0.03343030  & 0.7570297   & 0.025695181\\\\\n",
       "\t fct         & 0.5493556   & 0.01097301  & 0.7090829   & 0.009077475\\\\\n",
       "\t fl          & 0.4584255   & 0.02187019  & 0.6283768   & 0.020851276\\\\\n",
       "\t ft          & 0.5250902   & 0.02275830  & 0.6883393   & 0.019569062\\\\\n",
       "\t hf          & 0.5533690   & 0.03093163  & 0.7120092   & 0.026049200\\\\\n",
       "\t hfields     & 0.5561002   & 0.01872412  & 0.7145675   & 0.015537535\\\\\n",
       "\t ml          & 0.5751484   & 0.02380741  & 0.7300193   & 0.019047913\\\\\n",
       "\t RN          & 0.8329621   & 0.03730813  & 0.9084541   & 0.022709268\\\\\n",
       "\t rZI         & 0.5099328   & 0.01401078  & 0.6753348   & 0.012333886\\\\\n",
       "\t STN         & 0.6418298   & 0.04320338  & 0.7810864   & 0.032118781\\\\\n",
       "\t ZI          & 0.5571780   & 0.01201240  & 0.7155565   & 0.009916536\\\\\n",
       "\\end{tabular}\n"
      ],
      "text/markdown": [
       "\n",
       "| roi | mean_jaccard | sd_jaccard | mean_kappa | sd_kappa |\n",
       "|---|---|---|---|---|\n",
       "| cZI         | 0.6096707   | 0.03343030  | 0.7570297   | 0.025695181 |\n",
       "| fct         | 0.5493556   | 0.01097301  | 0.7090829   | 0.009077475 |\n",
       "| fl          | 0.4584255   | 0.02187019  | 0.6283768   | 0.020851276 |\n",
       "| ft          | 0.5250902   | 0.02275830  | 0.6883393   | 0.019569062 |\n",
       "| hf          | 0.5533690   | 0.03093163  | 0.7120092   | 0.026049200 |\n",
       "| hfields     | 0.5561002   | 0.01872412  | 0.7145675   | 0.015537535 |\n",
       "| ml          | 0.5751484   | 0.02380741  | 0.7300193   | 0.019047913 |\n",
       "| RN          | 0.8329621   | 0.03730813  | 0.9084541   | 0.022709268 |\n",
       "| rZI         | 0.5099328   | 0.01401078  | 0.6753348   | 0.012333886 |\n",
       "| STN         | 0.6418298   | 0.04320338  | 0.7810864   | 0.032118781 |\n",
       "| ZI          | 0.5571780   | 0.01201240  | 0.7155565   | 0.009916536 |\n",
       "\n"
      ],
      "text/plain": [
       "   roi     mean_jaccard sd_jaccard mean_kappa sd_kappa   \n",
       "1  cZI     0.6096707    0.03343030 0.7570297  0.025695181\n",
       "2  fct     0.5493556    0.01097301 0.7090829  0.009077475\n",
       "3  fl      0.4584255    0.02187019 0.6283768  0.020851276\n",
       "4  ft      0.5250902    0.02275830 0.6883393  0.019569062\n",
       "5  hf      0.5533690    0.03093163 0.7120092  0.026049200\n",
       "6  hfields 0.5561002    0.01872412 0.7145675  0.015537535\n",
       "7  ml      0.5751484    0.02380741 0.7300193  0.019047913\n",
       "8  RN      0.8329621    0.03730813 0.9084541  0.022709268\n",
       "9  rZI     0.5099328    0.01401078 0.6753348  0.012333886\n",
       "10 STN     0.6418298    0.04320338 0.7810864  0.032118781\n",
       "11 ZI      0.5571780    0.01201240 0.7155565  0.009916536"
      ]
     },
     "metadata": {},
     "output_type": "display_data"
    }
   ],
   "source": [
    "# initialize variables and calculate jaccard/kappa\n",
    "df_ZIR_rater <- read.table('../data/voxel_overlap_individual_subjects/voxel_overlap_individual_subjects.csv', sep=\",\", header=TRUE)\n",
    "\n",
    "# calculate jaccard\n",
    "df_ZIR_rater$jaccard = df_ZIR_rater$intersection / df_ZIR_rater$union\n",
    "\n",
    "# calculate kappa (i.e. dice)\n",
    "df_ZIR_rater$kappa = (2*df_ZIR_rater$intersection) / (df_ZIR_rater$id_vol + df_ZIR_rater$truth_vol)\n",
    "\n",
    "summary_ZIR_rater <- ddply(df_ZIR_rater, .(roi,side), summarize, mean_jaccard = mean(jaccard), sd_jaccard = sd(jaccard), mean_kappa = mean(kappa), sd_kappa = sd(kappa))\n",
    "\n",
    "summary_all_noside <- ddply(df_ZIR_rater, .(roi), summarize, mean_jaccard = mean(jaccard), sd_jaccard = sd(jaccard), mean_kappa = mean(kappa), sd_kappa = sd(kappa))\n",
    "summary_all_noside"
   ]
  },
  {
   "cell_type": "code",
   "execution_count": 3,
   "metadata": {},
   "outputs": [
    {
     "data": {
      "text/html": [
       "<table>\n",
       "<thead><tr><th scope=col>roi</th><th scope=col>side</th><th scope=col>jaccard</th><th scope=col>kappa</th></tr></thead>\n",
       "<tbody>\n",
       "\t<tr><td>cZI      </td><td>L        </td><td>0.63±0.04</td><td>0.77±0.03</td></tr>\n",
       "\t<tr><td>cZI      </td><td>R        </td><td>0.59±0.02</td><td>0.74±0.02</td></tr>\n",
       "\t<tr><td>fct      </td><td>L        </td><td>0.55±0.01</td><td>0.71±0.01</td></tr>\n",
       "\t<tr><td>fct      </td><td>R        </td><td>0.55±0.01</td><td>0.71±0.01</td></tr>\n",
       "\t<tr><td>fl       </td><td>L        </td><td>0.45±0.02</td><td>0.62±0.02</td></tr>\n",
       "\t<tr><td>fl       </td><td>R        </td><td>0.47±0.02</td><td>0.64±0.01</td></tr>\n",
       "\t<tr><td>ft       </td><td>L        </td><td>0.53±0.03</td><td>0.69±0.02</td></tr>\n",
       "\t<tr><td>ft       </td><td>R        </td><td>0.52±0.02</td><td>0.68±0.02</td></tr>\n",
       "\t<tr><td>hf       </td><td>L        </td><td>0.55±0.04</td><td>0.71±0.04</td></tr>\n",
       "\t<tr><td>hf       </td><td>R        </td><td>0.56±0.01</td><td>0.72±0.01</td></tr>\n",
       "\t<tr><td>hfields  </td><td>L        </td><td>0.55±0.02</td><td>0.71±0.02</td></tr>\n",
       "\t<tr><td>hfields  </td><td>R        </td><td>0.56±0.02</td><td>0.72±0.01</td></tr>\n",
       "\t<tr><td>ml       </td><td>L        </td><td>0.57±0.02</td><td>0.72±0.02</td></tr>\n",
       "\t<tr><td>ml       </td><td>R        </td><td>0.58±0.02</td><td>0.74±0.02</td></tr>\n",
       "\t<tr><td>RN       </td><td>L        </td><td>0.82±0.05</td><td>0.90±0.03</td></tr>\n",
       "\t<tr><td>RN       </td><td>R        </td><td>0.84±0.02</td><td>0.91±0.01</td></tr>\n",
       "\t<tr><td>rZI      </td><td>L        </td><td>0.51±0.02</td><td>0.68±0.01</td></tr>\n",
       "\t<tr><td>rZI      </td><td>R        </td><td>0.51±0.01</td><td>0.67±0.01</td></tr>\n",
       "\t<tr><td>STN      </td><td>L        </td><td>0.64±0.06</td><td>0.78±0.04</td></tr>\n",
       "\t<tr><td>STN      </td><td>R        </td><td>0.65±0.03</td><td>0.78±0.02</td></tr>\n",
       "\t<tr><td>ZI       </td><td>L        </td><td>0.56±0.01</td><td>0.72±0.01</td></tr>\n",
       "\t<tr><td>ZI       </td><td>R        </td><td>0.55±0.01</td><td>0.71±0.01</td></tr>\n",
       "</tbody>\n",
       "</table>\n"
      ],
      "text/latex": [
       "\\begin{tabular}{r|llll}\n",
       " roi & side & jaccard & kappa\\\\\n",
       "\\hline\n",
       "\t cZI       & L         & 0.63±0.04 & 0.77±0.03\\\\\n",
       "\t cZI       & R         & 0.59±0.02 & 0.74±0.02\\\\\n",
       "\t fct       & L         & 0.55±0.01 & 0.71±0.01\\\\\n",
       "\t fct       & R         & 0.55±0.01 & 0.71±0.01\\\\\n",
       "\t fl        & L         & 0.45±0.02 & 0.62±0.02\\\\\n",
       "\t fl        & R         & 0.47±0.02 & 0.64±0.01\\\\\n",
       "\t ft        & L         & 0.53±0.03 & 0.69±0.02\\\\\n",
       "\t ft        & R         & 0.52±0.02 & 0.68±0.02\\\\\n",
       "\t hf        & L         & 0.55±0.04 & 0.71±0.04\\\\\n",
       "\t hf        & R         & 0.56±0.01 & 0.72±0.01\\\\\n",
       "\t hfields   & L         & 0.55±0.02 & 0.71±0.02\\\\\n",
       "\t hfields   & R         & 0.56±0.02 & 0.72±0.01\\\\\n",
       "\t ml        & L         & 0.57±0.02 & 0.72±0.02\\\\\n",
       "\t ml        & R         & 0.58±0.02 & 0.74±0.02\\\\\n",
       "\t RN        & L         & 0.82±0.05 & 0.90±0.03\\\\\n",
       "\t RN        & R         & 0.84±0.02 & 0.91±0.01\\\\\n",
       "\t rZI       & L         & 0.51±0.02 & 0.68±0.01\\\\\n",
       "\t rZI       & R         & 0.51±0.01 & 0.67±0.01\\\\\n",
       "\t STN       & L         & 0.64±0.06 & 0.78±0.04\\\\\n",
       "\t STN       & R         & 0.65±0.03 & 0.78±0.02\\\\\n",
       "\t ZI        & L         & 0.56±0.01 & 0.72±0.01\\\\\n",
       "\t ZI        & R         & 0.55±0.01 & 0.71±0.01\\\\\n",
       "\\end{tabular}\n"
      ],
      "text/markdown": [
       "\n",
       "| roi | side | jaccard | kappa |\n",
       "|---|---|---|---|\n",
       "| cZI       | L         | 0.63±0.04 | 0.77±0.03 |\n",
       "| cZI       | R         | 0.59±0.02 | 0.74±0.02 |\n",
       "| fct       | L         | 0.55±0.01 | 0.71±0.01 |\n",
       "| fct       | R         | 0.55±0.01 | 0.71±0.01 |\n",
       "| fl        | L         | 0.45±0.02 | 0.62±0.02 |\n",
       "| fl        | R         | 0.47±0.02 | 0.64±0.01 |\n",
       "| ft        | L         | 0.53±0.03 | 0.69±0.02 |\n",
       "| ft        | R         | 0.52±0.02 | 0.68±0.02 |\n",
       "| hf        | L         | 0.55±0.04 | 0.71±0.04 |\n",
       "| hf        | R         | 0.56±0.01 | 0.72±0.01 |\n",
       "| hfields   | L         | 0.55±0.02 | 0.71±0.02 |\n",
       "| hfields   | R         | 0.56±0.02 | 0.72±0.01 |\n",
       "| ml        | L         | 0.57±0.02 | 0.72±0.02 |\n",
       "| ml        | R         | 0.58±0.02 | 0.74±0.02 |\n",
       "| RN        | L         | 0.82±0.05 | 0.90±0.03 |\n",
       "| RN        | R         | 0.84±0.02 | 0.91±0.01 |\n",
       "| rZI       | L         | 0.51±0.02 | 0.68±0.01 |\n",
       "| rZI       | R         | 0.51±0.01 | 0.67±0.01 |\n",
       "| STN       | L         | 0.64±0.06 | 0.78±0.04 |\n",
       "| STN       | R         | 0.65±0.03 | 0.78±0.02 |\n",
       "| ZI        | L         | 0.56±0.01 | 0.72±0.01 |\n",
       "| ZI        | R         | 0.55±0.01 | 0.71±0.01 |\n",
       "\n"
      ],
      "text/plain": [
       "   roi     side jaccard   kappa    \n",
       "1  cZI     L    0.63±0.04 0.77±0.03\n",
       "2  cZI     R    0.59±0.02 0.74±0.02\n",
       "3  fct     L    0.55±0.01 0.71±0.01\n",
       "4  fct     R    0.55±0.01 0.71±0.01\n",
       "5  fl      L    0.45±0.02 0.62±0.02\n",
       "6  fl      R    0.47±0.02 0.64±0.01\n",
       "7  ft      L    0.53±0.03 0.69±0.02\n",
       "8  ft      R    0.52±0.02 0.68±0.02\n",
       "9  hf      L    0.55±0.04 0.71±0.04\n",
       "10 hf      R    0.56±0.01 0.72±0.01\n",
       "11 hfields L    0.55±0.02 0.71±0.02\n",
       "12 hfields R    0.56±0.02 0.72±0.01\n",
       "13 ml      L    0.57±0.02 0.72±0.02\n",
       "14 ml      R    0.58±0.02 0.74±0.02\n",
       "15 RN      L    0.82±0.05 0.90±0.03\n",
       "16 RN      R    0.84±0.02 0.91±0.01\n",
       "17 rZI     L    0.51±0.02 0.68±0.01\n",
       "18 rZI     R    0.51±0.01 0.67±0.01\n",
       "19 STN     L    0.64±0.06 0.78±0.04\n",
       "20 STN     R    0.65±0.03 0.78±0.02\n",
       "21 ZI      L    0.56±0.01 0.72±0.01\n",
       "22 ZI      R    0.55±0.01 0.71±0.01"
      ]
     },
     "metadata": {},
     "output_type": "display_data"
    }
   ],
   "source": [
    "formatted_summary_ZIR_rater <- summary_ZIR_rater[,1:2]\n",
    "\n",
    "formatted_summary_ZIR_rater$jaccard <- paste0(\n",
    "    sprintf( \"%.2f\", round(summary_ZIR_rater$mean_jaccard,2)), '±',\n",
    "    sprintf( \"%.2f\", round(summary_ZIR_rater$sd_jaccard,2)))\n",
    "\n",
    "formatted_summary_ZIR_rater$kappa <- paste0(\n",
    "    sprintf( \"%.2f\", round(summary_ZIR_rater$mean_kappa,2)), '±',\n",
    "    sprintf( \"%.2f\", round(summary_ZIR_rater$sd_kappa,2)))\n",
    "\n",
    "formatted_summary_ZIR_rater\n",
    "\n",
    "write.table(formatted_summary_ZIR_rater, file = \"~/Documents/GitHub/zona-analysis/data/output_tables/SuppTable_voxel_overlap_individual_subjects.csv\", row.names = FALSE, quote = FALSE, sep = \",\")"
   ]
  },
  {
   "cell_type": "code",
   "execution_count": 6,
   "metadata": {},
   "outputs": [
    {
     "data": {
      "text/html": [
       "<table>\n",
       "<thead><tr><th scope=col>roi</th><th scope=col>jaccard</th><th scope=col>kappa</th></tr></thead>\n",
       "<tbody>\n",
       "\t<tr><td>cZI      </td><td>0.61±0.03</td><td>0.76±0.03</td></tr>\n",
       "\t<tr><td>fct      </td><td>0.55±0.01</td><td>0.71±0.01</td></tr>\n",
       "\t<tr><td>fl       </td><td>0.46±0.02</td><td>0.63±0.02</td></tr>\n",
       "\t<tr><td>ft       </td><td>0.53±0.02</td><td>0.69±0.02</td></tr>\n",
       "\t<tr><td>hf       </td><td>0.55±0.03</td><td>0.71±0.03</td></tr>\n",
       "\t<tr><td>hfields  </td><td>0.56±0.02</td><td>0.71±0.02</td></tr>\n",
       "\t<tr><td>ml       </td><td>0.58±0.02</td><td>0.73±0.02</td></tr>\n",
       "\t<tr><td>RN       </td><td>0.83±0.04</td><td>0.91±0.02</td></tr>\n",
       "\t<tr><td>rZI      </td><td>0.51±0.01</td><td>0.68±0.01</td></tr>\n",
       "\t<tr><td>STN      </td><td>0.64±0.04</td><td>0.78±0.03</td></tr>\n",
       "\t<tr><td>ZI       </td><td>0.56±0.01</td><td>0.72±0.01</td></tr>\n",
       "</tbody>\n",
       "</table>\n"
      ],
      "text/latex": [
       "\\begin{tabular}{r|lll}\n",
       " roi & jaccard & kappa\\\\\n",
       "\\hline\n",
       "\t cZI       & 0.61±0.03 & 0.76±0.03\\\\\n",
       "\t fct       & 0.55±0.01 & 0.71±0.01\\\\\n",
       "\t fl        & 0.46±0.02 & 0.63±0.02\\\\\n",
       "\t ft        & 0.53±0.02 & 0.69±0.02\\\\\n",
       "\t hf        & 0.55±0.03 & 0.71±0.03\\\\\n",
       "\t hfields   & 0.56±0.02 & 0.71±0.02\\\\\n",
       "\t ml        & 0.58±0.02 & 0.73±0.02\\\\\n",
       "\t RN        & 0.83±0.04 & 0.91±0.02\\\\\n",
       "\t rZI       & 0.51±0.01 & 0.68±0.01\\\\\n",
       "\t STN       & 0.64±0.04 & 0.78±0.03\\\\\n",
       "\t ZI        & 0.56±0.01 & 0.72±0.01\\\\\n",
       "\\end{tabular}\n"
      ],
      "text/markdown": [
       "\n",
       "| roi | jaccard | kappa |\n",
       "|---|---|---|\n",
       "| cZI       | 0.61±0.03 | 0.76±0.03 |\n",
       "| fct       | 0.55±0.01 | 0.71±0.01 |\n",
       "| fl        | 0.46±0.02 | 0.63±0.02 |\n",
       "| ft        | 0.53±0.02 | 0.69±0.02 |\n",
       "| hf        | 0.55±0.03 | 0.71±0.03 |\n",
       "| hfields   | 0.56±0.02 | 0.71±0.02 |\n",
       "| ml        | 0.58±0.02 | 0.73±0.02 |\n",
       "| RN        | 0.83±0.04 | 0.91±0.02 |\n",
       "| rZI       | 0.51±0.01 | 0.68±0.01 |\n",
       "| STN       | 0.64±0.04 | 0.78±0.03 |\n",
       "| ZI        | 0.56±0.01 | 0.72±0.01 |\n",
       "\n"
      ],
      "text/plain": [
       "   roi     jaccard   kappa    \n",
       "1  cZI     0.61±0.03 0.76±0.03\n",
       "2  fct     0.55±0.01 0.71±0.01\n",
       "3  fl      0.46±0.02 0.63±0.02\n",
       "4  ft      0.53±0.02 0.69±0.02\n",
       "5  hf      0.55±0.03 0.71±0.03\n",
       "6  hfields 0.56±0.02 0.71±0.02\n",
       "7  ml      0.58±0.02 0.73±0.02\n",
       "8  RN      0.83±0.04 0.91±0.02\n",
       "9  rZI     0.51±0.01 0.68±0.01\n",
       "10 STN     0.64±0.04 0.78±0.03\n",
       "11 ZI      0.56±0.01 0.72±0.01"
      ]
     },
     "metadata": {},
     "output_type": "display_data"
    }
   ],
   "source": [
    "formatted_summary_all_noside <- summary_all_noside[,1:2]\n",
    "\n",
    "formatted_summary_all_noside$jaccard <- paste0(\n",
    "    sprintf( \"%.2f\", round(summary_all_noside$mean_jaccard,2)), '±',\n",
    "    sprintf( \"%.2f\", round(summary_all_noside$sd_jaccard,2)))\n",
    "\n",
    "formatted_summary_all_noside$kappa <- paste0(\n",
    "    sprintf( \"%.2f\", round(summary_all_noside$mean_kappa,2)), '±',\n",
    "    sprintf( \"%.2f\", round(summary_all_noside$sd_kappa,2)))\n",
    "\n",
    "formatted_summary_all_noside <- formatted_summary_all_noside[,c(1,3,4)]\n",
    "formatted_summary_all_noside\n",
    "\n",
    "# needs to be integrated into main table\n",
    "write.table(formatted_summary_all_noside, file = \"~/Documents/GitHub/zona-analysis/data/output_tables/SuppTable_voxel_overlap_individual_subjects_noside.csv\", row.names = FALSE, quote = FALSE, sep = \",\")"
   ]
  },
  {
   "cell_type": "code",
   "execution_count": 5,
   "metadata": {},
   "outputs": [
    {
     "data": {
      "text/plain": [
       "R version 3.6.1 (2019-07-05)\n",
       "Platform: x86_64-apple-darwin13.4.0 (64-bit)\n",
       "Running under: macOS Catalina 10.15.4\n",
       "\n",
       "Matrix products: default\n",
       "BLAS/LAPACK: /Users/jclau/anaconda3/envs/r-tutorial/lib/R/lib/libRblas.dylib\n",
       "\n",
       "locale:\n",
       "[1] en_CA.UTF-8/UTF-8/en_CA.UTF-8/C/en_CA.UTF-8/en_CA.UTF-8\n",
       "\n",
       "attached base packages:\n",
       "[1] stats     graphics  grDevices utils     datasets  methods   base     \n",
       "\n",
       "other attached packages:\n",
       "[1] reshape2_1.4.3 digest_0.6.18  plyr_1.8.4    \n",
       "\n",
       "loaded via a namespace (and not attached):\n",
       " [1] Rcpp_1.0.1      crayon_1.3.4    IRdisplay_0.7.0 repr_0.19.2    \n",
       " [5] jsonlite_1.6    magrittr_1.5    evaluate_0.13   stringi_1.4.3  \n",
       " [9] uuid_0.1-2      IRkernel_0.8.15 tools_3.6.1     stringr_1.4.0  \n",
       "[13] compiler_3.6.1  base64enc_0.1-3 htmltools_0.3.6 pbdZMQ_0.3-3   "
      ]
     },
     "metadata": {},
     "output_type": "display_data"
    }
   ],
   "source": [
    "sessionInfo()"
   ]
  }
 ],
 "metadata": {
  "kernelspec": {
   "display_name": "R",
   "language": "R",
   "name": "ir"
  },
  "language_info": {
   "codemirror_mode": "r",
   "file_extension": ".r",
   "mimetype": "text/x-r-source",
   "name": "R",
   "pygments_lexer": "r",
   "version": "3.6.1"
  }
 },
 "nbformat": 4,
 "nbformat_minor": 2
}

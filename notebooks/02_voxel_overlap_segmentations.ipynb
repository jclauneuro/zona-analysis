{
 "cells": [
  {
   "cell_type": "markdown",
   "metadata": {},
   "source": [
    "# Voxel Overlap for Segmentations\n",
    "\n",
    "Metrics for intra- and inter-rater reliability of segmentations."
   ]
  },
  {
   "cell_type": "code",
   "execution_count": 1,
   "metadata": {},
   "outputs": [
    {
     "name": "stderr",
     "output_type": "stream",
     "text": [
      "\n",
      "Attaching package: ‘dplyr’\n",
      "\n",
      "The following objects are masked from ‘package:plyr’:\n",
      "\n",
      "    arrange, count, desc, failwith, id, mutate, rename, summarise,\n",
      "    summarize\n",
      "\n",
      "The following objects are masked from ‘package:stats’:\n",
      "\n",
      "    filter, lag\n",
      "\n",
      "The following objects are masked from ‘package:base’:\n",
      "\n",
      "    intersect, setdiff, setequal, union\n",
      "\n",
      "Registered S3 methods overwritten by 'ggplot2':\n",
      "  method         from \n",
      "  [.quosures     rlang\n",
      "  c.quosures     rlang\n",
      "  print.quosures rlang\n"
     ]
    }
   ],
   "source": [
    "# initialize libraries\n",
    "library(plyr)\n",
    "library(dplyr)\n",
    "library(digest)\n",
    "library(reshape2)\n",
    "library(ggplot2)"
   ]
  },
  {
   "cell_type": "code",
   "execution_count": 2,
   "metadata": {},
   "outputs": [
    {
     "data": {
      "text/html": [
       "<table>\n",
       "<thead><tr><th scope=col>roi</th><th scope=col>mean_jaccard</th><th scope=col>sd_jaccard</th><th scope=col>mean_kappa</th><th scope=col>sd_kappa</th></tr></thead>\n",
       "<tbody>\n",
       "\t<tr><td>RN        </td><td>0.9542208 </td><td>0.02769888</td><td>0.9763859 </td><td>0.01449205</td></tr>\n",
       "\t<tr><td>STN       </td><td>0.8913514 </td><td>0.09505093</td><td>0.9400494 </td><td>0.05443122</td></tr>\n",
       "</tbody>\n",
       "</table>\n"
      ],
      "text/latex": [
       "\\begin{tabular}{r|lllll}\n",
       " roi & mean\\_jaccard & sd\\_jaccard & mean\\_kappa & sd\\_kappa\\\\\n",
       "\\hline\n",
       "\t RN         & 0.9542208  & 0.02769888 & 0.9763859  & 0.01449205\\\\\n",
       "\t STN        & 0.8913514  & 0.09505093 & 0.9400494  & 0.05443122\\\\\n",
       "\\end{tabular}\n"
      ],
      "text/markdown": [
       "\n",
       "| roi | mean_jaccard | sd_jaccard | mean_kappa | sd_kappa |\n",
       "|---|---|---|---|---|\n",
       "| RN         | 0.9542208  | 0.02769888 | 0.9763859  | 0.01449205 |\n",
       "| STN        | 0.8913514  | 0.09505093 | 0.9400494  | 0.05443122 |\n",
       "\n"
      ],
      "text/plain": [
       "  roi mean_jaccard sd_jaccard mean_kappa sd_kappa  \n",
       "1 RN  0.9542208    0.02769888 0.9763859  0.01449205\n",
       "2 STN 0.8913514    0.09505093 0.9400494  0.05443122"
      ]
     },
     "metadata": {},
     "output_type": "display_data"
    }
   ],
   "source": [
    "# initialize variables and calculate jaccard/kappa\n",
    "df_classic_intrarater <- read.table('~/Documents/GitHub/zona-analysis/data/output_manual_seg/voxel_overlap_intrarater_classic.csv', sep=\",\", header=TRUE)\n",
    "\n",
    "# calculate jaccard\n",
    "df_classic_intrarater$jaccard = df_classic_intrarater$intersection / df_classic_intrarater$union\n",
    "\n",
    "# calculate kappa (i.e. dice)\n",
    "df_classic_intrarater$kappa = (2*df_classic_intrarater$intersection) / (df_classic_intrarater$id_vol + df_classic_intrarater$truth_vol)\n",
    "\n",
    "summary_classic_intrarater <- ddply(df_classic_intrarater, .(roi,side), summarize, mean_jaccard = mean(jaccard), sd_jaccard = sd(jaccard), mean_kappa = mean(kappa), sd_kappa = sd(kappa))\n",
    "ddply(df_classic_intrarater, .(roi), summarize, mean_jaccard = mean(jaccard), sd_jaccard = sd(jaccard), mean_kappa = mean(kappa), sd_kappa = sd(kappa))\n",
    "\n",
    "summary_classic_intrarater_noside <- ddply(df_classic_intrarater, .(roi), summarize, mean_jaccard = mean(jaccard), sd_jaccard = sd(jaccard), mean_kappa = mean(kappa), sd_kappa = sd(kappa))"
   ]
  },
  {
   "cell_type": "code",
   "execution_count": 3,
   "metadata": {},
   "outputs": [
    {
     "data": {
      "text/html": [
       "<table>\n",
       "<thead><tr><th scope=col>roi</th><th scope=col>side</th><th scope=col>jaccard</th><th scope=col>kappa</th></tr></thead>\n",
       "<tbody>\n",
       "\t<tr><td>RN       </td><td>left     </td><td>0.95±0.03</td><td>0.98±0.02</td></tr>\n",
       "\t<tr><td>RN       </td><td>right    </td><td>0.95±0.03</td><td>0.98±0.01</td></tr>\n",
       "\t<tr><td>STN      </td><td>left     </td><td>0.90±0.10</td><td>0.94±0.06</td></tr>\n",
       "\t<tr><td>STN      </td><td>right    </td><td>0.89±0.10</td><td>0.94±0.05</td></tr>\n",
       "</tbody>\n",
       "</table>\n"
      ],
      "text/latex": [
       "\\begin{tabular}{r|llll}\n",
       " roi & side & jaccard & kappa\\\\\n",
       "\\hline\n",
       "\t RN        & left      & 0.95±0.03 & 0.98±0.02\\\\\n",
       "\t RN        & right     & 0.95±0.03 & 0.98±0.01\\\\\n",
       "\t STN       & left      & 0.90±0.10 & 0.94±0.06\\\\\n",
       "\t STN       & right     & 0.89±0.10 & 0.94±0.05\\\\\n",
       "\\end{tabular}\n"
      ],
      "text/markdown": [
       "\n",
       "| roi | side | jaccard | kappa |\n",
       "|---|---|---|---|\n",
       "| RN        | left      | 0.95±0.03 | 0.98±0.02 |\n",
       "| RN        | right     | 0.95±0.03 | 0.98±0.01 |\n",
       "| STN       | left      | 0.90±0.10 | 0.94±0.06 |\n",
       "| STN       | right     | 0.89±0.10 | 0.94±0.05 |\n",
       "\n"
      ],
      "text/plain": [
       "  roi side  jaccard   kappa    \n",
       "1 RN  left  0.95±0.03 0.98±0.02\n",
       "2 RN  right 0.95±0.03 0.98±0.01\n",
       "3 STN left  0.90±0.10 0.94±0.06\n",
       "4 STN right 0.89±0.10 0.94±0.05"
      ]
     },
     "metadata": {},
     "output_type": "display_data"
    }
   ],
   "source": [
    "formatted_summary_classic_intrarater <- summary_classic_intrarater[,1:2]\n",
    "\n",
    "formatted_summary_classic_intrarater$jaccard <- paste0(\n",
    "    sprintf( \"%.2f\", round(summary_classic_intrarater$mean_jaccard,2)), '±',\n",
    "    sprintf( \"%.2f\", round(summary_classic_intrarater$sd_jaccard,2)))\n",
    "\n",
    "formatted_summary_classic_intrarater$kappa <- paste0(\n",
    "    sprintf( \"%.2f\", round(summary_classic_intrarater$mean_kappa,2)), '±',\n",
    "    sprintf( \"%.2f\", round(summary_classic_intrarater$sd_kappa,2)))\n",
    "\n",
    "formatted_summary_classic_intrarater\n",
    "\n",
    "write.table(formatted_summary_classic_intrarater, file = \"~/Documents/GitHub/zona-analysis/data/output_tables/SuppTable_classic_intrarater.csv\", row.names = FALSE, quote = FALSE, sep = \",\")"
   ]
  },
  {
   "cell_type": "code",
   "execution_count": 4,
   "metadata": {},
   "outputs": [
    {
     "data": {
      "text/html": [
       "<table>\n",
       "<thead><tr><th scope=col>roi</th><th scope=col>jaccard</th><th scope=col>kappa</th></tr></thead>\n",
       "<tbody>\n",
       "\t<tr><td>RN       </td><td>0.95±0.03</td><td>0.98±0.01</td></tr>\n",
       "\t<tr><td>STN      </td><td>0.89±0.10</td><td>0.94±0.05</td></tr>\n",
       "</tbody>\n",
       "</table>\n"
      ],
      "text/latex": [
       "\\begin{tabular}{r|lll}\n",
       " roi & jaccard & kappa\\\\\n",
       "\\hline\n",
       "\t RN        & 0.95±0.03 & 0.98±0.01\\\\\n",
       "\t STN       & 0.89±0.10 & 0.94±0.05\\\\\n",
       "\\end{tabular}\n"
      ],
      "text/markdown": [
       "\n",
       "| roi | jaccard | kappa |\n",
       "|---|---|---|\n",
       "| RN        | 0.95±0.03 | 0.98±0.01 |\n",
       "| STN       | 0.89±0.10 | 0.94±0.05 |\n",
       "\n"
      ],
      "text/plain": [
       "  roi jaccard   kappa    \n",
       "1 RN  0.95±0.03 0.98±0.01\n",
       "2 STN 0.89±0.10 0.94±0.05"
      ]
     },
     "metadata": {},
     "output_type": "display_data"
    }
   ],
   "source": [
    "formatted_summary_classic_intrarater_noside <- summary_classic_intrarater_noside[,1:2]\n",
    "\n",
    "formatted_summary_classic_intrarater_noside$jaccard <- paste0(\n",
    "    sprintf( \"%.2f\", round(summary_classic_intrarater_noside$mean_jaccard,2)), '±',\n",
    "    sprintf( \"%.2f\", round(summary_classic_intrarater_noside$sd_jaccard,2)))\n",
    "\n",
    "formatted_summary_classic_intrarater_noside$kappa <- paste0(\n",
    "    sprintf( \"%.2f\", round(summary_classic_intrarater_noside$mean_kappa,2)), '±',\n",
    "    sprintf( \"%.2f\", round(summary_classic_intrarater_noside$sd_kappa,2)))\n",
    "\n",
    "formatted_summary_classic_intrarater_noside <- formatted_summary_classic_intrarater_noside[,c(1,3,4)]\n",
    "formatted_summary_classic_intrarater_noside\n",
    "\n",
    "write.table(formatted_summary_classic_intrarater_noside, file = \"~/Documents/GitHub/zona-analysis/data/output_tables/SuppTable_classic_intrarater_noside.csv\", row.names = FALSE, quote = FALSE, sep = \",\")"
   ]
  },
  {
   "cell_type": "code",
   "execution_count": 5,
   "metadata": {},
   "outputs": [
    {
     "data": {
      "text/html": [
       "<table>\n",
       "<thead><tr><th scope=col>roi</th><th scope=col>mean_jaccard</th><th scope=col>sd_jaccard</th><th scope=col>mean_kappa</th><th scope=col>sd_kappa</th></tr></thead>\n",
       "<tbody>\n",
       "\t<tr><td>RN        </td><td>0.9165478 </td><td>0.03407444</td><td>0.9561566 </td><td>0.01843428</td></tr>\n",
       "\t<tr><td>STN       </td><td>0.8006371 </td><td>0.05515076</td><td>0.8883082 </td><td>0.03470729</td></tr>\n",
       "</tbody>\n",
       "</table>\n"
      ],
      "text/latex": [
       "\\begin{tabular}{r|lllll}\n",
       " roi & mean\\_jaccard & sd\\_jaccard & mean\\_kappa & sd\\_kappa\\\\\n",
       "\\hline\n",
       "\t RN         & 0.9165478  & 0.03407444 & 0.9561566  & 0.01843428\\\\\n",
       "\t STN        & 0.8006371  & 0.05515076 & 0.8883082  & 0.03470729\\\\\n",
       "\\end{tabular}\n"
      ],
      "text/markdown": [
       "\n",
       "| roi | mean_jaccard | sd_jaccard | mean_kappa | sd_kappa |\n",
       "|---|---|---|---|---|\n",
       "| RN         | 0.9165478  | 0.03407444 | 0.9561566  | 0.01843428 |\n",
       "| STN        | 0.8006371  | 0.05515076 | 0.8883082  | 0.03470729 |\n",
       "\n"
      ],
      "text/plain": [
       "  roi mean_jaccard sd_jaccard mean_kappa sd_kappa  \n",
       "1 RN  0.9165478    0.03407444 0.9561566  0.01843428\n",
       "2 STN 0.8006371    0.05515076 0.8883082  0.03470729"
      ]
     },
     "metadata": {},
     "output_type": "display_data"
    }
   ],
   "source": [
    "# initialize variables and calculate jaccard/kappa\n",
    "df_classic_interrater <- read.table('~/Documents/GitHub/zona-analysis/data/output_manual_seg/voxel_overlap_interrater_classic.csv', sep=\",\", header=TRUE)\n",
    "\n",
    "# calculate jaccard\n",
    "df_classic_interrater$jaccard = df_classic_interrater$intersection / df_classic_interrater$union\n",
    "\n",
    "# calculate kappa (i.e. dice)\n",
    "df_classic_interrater$kappa = (2*df_classic_interrater$intersection) / (df_classic_interrater$id_vol + df_classic_interrater$truth_vol)\n",
    "\n",
    "summary_classic_interrater <- ddply(df_classic_interrater, .(roi,side), summarize, mean_jaccard = mean(jaccard), sd_jaccard = sd(jaccard), mean_kappa = mean(kappa), sd_kappa = sd(kappa))\n",
    "\n",
    "ddply(df_classic_interrater, .(roi), summarize, mean_jaccard = mean(jaccard), sd_jaccard = sd(jaccard), mean_kappa = mean(kappa), sd_kappa = sd(kappa))"
   ]
  },
  {
   "cell_type": "code",
   "execution_count": 6,
   "metadata": {},
   "outputs": [
    {
     "data": {
      "text/html": [
       "<table>\n",
       "<thead><tr><th scope=col>roi</th><th scope=col>side</th><th scope=col>jaccard</th><th scope=col>kappa</th></tr></thead>\n",
       "<tbody>\n",
       "\t<tr><td>RN       </td><td>left     </td><td>0.92±0.04</td><td>0.96±0.02</td></tr>\n",
       "\t<tr><td>RN       </td><td>right    </td><td>0.91±0.03</td><td>0.95±0.02</td></tr>\n",
       "\t<tr><td>STN      </td><td>left     </td><td>0.81±0.07</td><td>0.90±0.04</td></tr>\n",
       "\t<tr><td>STN      </td><td>right    </td><td>0.79±0.04</td><td>0.88±0.02</td></tr>\n",
       "</tbody>\n",
       "</table>\n"
      ],
      "text/latex": [
       "\\begin{tabular}{r|llll}\n",
       " roi & side & jaccard & kappa\\\\\n",
       "\\hline\n",
       "\t RN        & left      & 0.92±0.04 & 0.96±0.02\\\\\n",
       "\t RN        & right     & 0.91±0.03 & 0.95±0.02\\\\\n",
       "\t STN       & left      & 0.81±0.07 & 0.90±0.04\\\\\n",
       "\t STN       & right     & 0.79±0.04 & 0.88±0.02\\\\\n",
       "\\end{tabular}\n"
      ],
      "text/markdown": [
       "\n",
       "| roi | side | jaccard | kappa |\n",
       "|---|---|---|---|\n",
       "| RN        | left      | 0.92±0.04 | 0.96±0.02 |\n",
       "| RN        | right     | 0.91±0.03 | 0.95±0.02 |\n",
       "| STN       | left      | 0.81±0.07 | 0.90±0.04 |\n",
       "| STN       | right     | 0.79±0.04 | 0.88±0.02 |\n",
       "\n"
      ],
      "text/plain": [
       "  roi side  jaccard   kappa    \n",
       "1 RN  left  0.92±0.04 0.96±0.02\n",
       "2 RN  right 0.91±0.03 0.95±0.02\n",
       "3 STN left  0.81±0.07 0.90±0.04\n",
       "4 STN right 0.79±0.04 0.88±0.02"
      ]
     },
     "metadata": {},
     "output_type": "display_data"
    }
   ],
   "source": [
    "formatted_summary_classic_interrater <- summary_classic_interrater[,1:2]\n",
    "\n",
    "formatted_summary_classic_interrater$jaccard <- paste0(\n",
    "    sprintf( \"%.2f\", round(summary_classic_interrater$mean_jaccard,2)), '±',\n",
    "    sprintf( \"%.2f\", round(summary_classic_interrater$sd_jaccard,2)))\n",
    "\n",
    "formatted_summary_classic_interrater$kappa <- paste0(\n",
    "    sprintf( \"%.2f\", round(summary_classic_interrater$mean_kappa,2)), '±',\n",
    "    sprintf( \"%.2f\", round(summary_classic_interrater$sd_kappa,2)))\n",
    "\n",
    "formatted_summary_classic_interrater\n",
    "\n",
    "write.table(formatted_summary_classic_interrater, file = \"~/Documents/GitHub/zona-analysis/data/output_tables/SuppTable_classic_interrater.csv\", row.names = FALSE, quote = FALSE, sep = \",\")"
   ]
  },
  {
   "cell_type": "code",
   "execution_count": 7,
   "metadata": {},
   "outputs": [],
   "source": [
    "# initialize variables and calculate jaccard/kappa\n",
    "df_zona_intrarater <- read.table('~/Documents/GitHub/zona-analysis/data/output_manual_seg/voxel_overlap_intrarater_zona.csv', sep=\",\", header=TRUE)\n",
    "\n",
    "# calculate jaccard\n",
    "df_zona_intrarater$jaccard = df_zona_intrarater$intersection / df_zona_intrarater$union\n",
    "\n",
    "# calculate kappa (i.e. dice)\n",
    "df_zona_intrarater$kappa = (2*df_zona_intrarater$intersection) / (df_zona_intrarater$id_vol + df_zona_intrarater$truth_vol)\n",
    "\n",
    "summary_zona_intrarater <- ddply(df_zona_intrarater, .(roi,side), summarize, mean_jaccard = mean(jaccard), sd_jaccard = sd(jaccard), mean_kappa = mean(kappa), sd_kappa = sd(kappa))\n",
    "summary_zona_intrarater_noside <- ddply(df_zona_intrarater, .(roi), summarize, mean_jaccard = mean(jaccard), sd_jaccard = sd(jaccard), mean_kappa = mean(kappa), sd_kappa = sd(kappa))\n"
   ]
  },
  {
   "cell_type": "code",
   "execution_count": 8,
   "metadata": {},
   "outputs": [
    {
     "data": {
      "text/html": [
       "<table>\n",
       "<thead><tr><th scope=col>roi</th><th scope=col>side</th><th scope=col>jaccard</th><th scope=col>kappa</th></tr></thead>\n",
       "<tbody>\n",
       "\t<tr><td>cZI      </td><td>left     </td><td>0.88±0.01</td><td>0.94±0.01</td></tr>\n",
       "\t<tr><td>cZI      </td><td>right    </td><td>0.84±0.02</td><td>0.91±0.01</td></tr>\n",
       "\t<tr><td>fct      </td><td>left     </td><td>0.80±0.14</td><td>0.89±0.09</td></tr>\n",
       "\t<tr><td>fct      </td><td>right    </td><td>0.80±0.14</td><td>0.88±0.08</td></tr>\n",
       "\t<tr><td>fl       </td><td>left     </td><td>0.76±0.15</td><td>0.86±0.09</td></tr>\n",
       "\t<tr><td>fl       </td><td>right    </td><td>0.79±0.14</td><td>0.88±0.09</td></tr>\n",
       "\t<tr><td>ft       </td><td>left     </td><td>0.79±0.01</td><td>0.89±0.01</td></tr>\n",
       "\t<tr><td>ft       </td><td>right    </td><td>0.80±0.03</td><td>0.89±0.02</td></tr>\n",
       "\t<tr><td>hf       </td><td>left     </td><td>0.79±0.06</td><td>0.88±0.04</td></tr>\n",
       "\t<tr><td>hf       </td><td>right    </td><td>0.79±0.07</td><td>0.88±0.04</td></tr>\n",
       "\t<tr><td>hfields  </td><td>left     </td><td>0.81±0.04</td><td>0.89±0.02</td></tr>\n",
       "\t<tr><td>hfields  </td><td>right    </td><td>0.82±0.03</td><td>0.90±0.02</td></tr>\n",
       "\t<tr><td>ml       </td><td>left     </td><td>0.82±0.20</td><td>0.89±0.12</td></tr>\n",
       "\t<tr><td>ml       </td><td>right    </td><td>0.86±0.01</td><td>0.92±0.01</td></tr>\n",
       "\t<tr><td>rZI      </td><td>left     </td><td>0.78±0.14</td><td>0.87±0.09</td></tr>\n",
       "\t<tr><td>rZI      </td><td>right    </td><td>0.79±0.11</td><td>0.88±0.07</td></tr>\n",
       "\t<tr><td>ZI       </td><td>left     </td><td>0.83±0.09</td><td>0.91±0.05</td></tr>\n",
       "\t<tr><td>ZI       </td><td>right    </td><td>0.83±0.08</td><td>0.90±0.05</td></tr>\n",
       "</tbody>\n",
       "</table>\n"
      ],
      "text/latex": [
       "\\begin{tabular}{r|llll}\n",
       " roi & side & jaccard & kappa\\\\\n",
       "\\hline\n",
       "\t cZI       & left      & 0.88±0.01 & 0.94±0.01\\\\\n",
       "\t cZI       & right     & 0.84±0.02 & 0.91±0.01\\\\\n",
       "\t fct       & left      & 0.80±0.14 & 0.89±0.09\\\\\n",
       "\t fct       & right     & 0.80±0.14 & 0.88±0.08\\\\\n",
       "\t fl        & left      & 0.76±0.15 & 0.86±0.09\\\\\n",
       "\t fl        & right     & 0.79±0.14 & 0.88±0.09\\\\\n",
       "\t ft        & left      & 0.79±0.01 & 0.89±0.01\\\\\n",
       "\t ft        & right     & 0.80±0.03 & 0.89±0.02\\\\\n",
       "\t hf        & left      & 0.79±0.06 & 0.88±0.04\\\\\n",
       "\t hf        & right     & 0.79±0.07 & 0.88±0.04\\\\\n",
       "\t hfields   & left      & 0.81±0.04 & 0.89±0.02\\\\\n",
       "\t hfields   & right     & 0.82±0.03 & 0.90±0.02\\\\\n",
       "\t ml        & left      & 0.82±0.20 & 0.89±0.12\\\\\n",
       "\t ml        & right     & 0.86±0.01 & 0.92±0.01\\\\\n",
       "\t rZI       & left      & 0.78±0.14 & 0.87±0.09\\\\\n",
       "\t rZI       & right     & 0.79±0.11 & 0.88±0.07\\\\\n",
       "\t ZI        & left      & 0.83±0.09 & 0.91±0.05\\\\\n",
       "\t ZI        & right     & 0.83±0.08 & 0.90±0.05\\\\\n",
       "\\end{tabular}\n"
      ],
      "text/markdown": [
       "\n",
       "| roi | side | jaccard | kappa |\n",
       "|---|---|---|---|\n",
       "| cZI       | left      | 0.88±0.01 | 0.94±0.01 |\n",
       "| cZI       | right     | 0.84±0.02 | 0.91±0.01 |\n",
       "| fct       | left      | 0.80±0.14 | 0.89±0.09 |\n",
       "| fct       | right     | 0.80±0.14 | 0.88±0.08 |\n",
       "| fl        | left      | 0.76±0.15 | 0.86±0.09 |\n",
       "| fl        | right     | 0.79±0.14 | 0.88±0.09 |\n",
       "| ft        | left      | 0.79±0.01 | 0.89±0.01 |\n",
       "| ft        | right     | 0.80±0.03 | 0.89±0.02 |\n",
       "| hf        | left      | 0.79±0.06 | 0.88±0.04 |\n",
       "| hf        | right     | 0.79±0.07 | 0.88±0.04 |\n",
       "| hfields   | left      | 0.81±0.04 | 0.89±0.02 |\n",
       "| hfields   | right     | 0.82±0.03 | 0.90±0.02 |\n",
       "| ml        | left      | 0.82±0.20 | 0.89±0.12 |\n",
       "| ml        | right     | 0.86±0.01 | 0.92±0.01 |\n",
       "| rZI       | left      | 0.78±0.14 | 0.87±0.09 |\n",
       "| rZI       | right     | 0.79±0.11 | 0.88±0.07 |\n",
       "| ZI        | left      | 0.83±0.09 | 0.91±0.05 |\n",
       "| ZI        | right     | 0.83±0.08 | 0.90±0.05 |\n",
       "\n"
      ],
      "text/plain": [
       "   roi     side  jaccard   kappa    \n",
       "1  cZI     left  0.88±0.01 0.94±0.01\n",
       "2  cZI     right 0.84±0.02 0.91±0.01\n",
       "3  fct     left  0.80±0.14 0.89±0.09\n",
       "4  fct     right 0.80±0.14 0.88±0.08\n",
       "5  fl      left  0.76±0.15 0.86±0.09\n",
       "6  fl      right 0.79±0.14 0.88±0.09\n",
       "7  ft      left  0.79±0.01 0.89±0.01\n",
       "8  ft      right 0.80±0.03 0.89±0.02\n",
       "9  hf      left  0.79±0.06 0.88±0.04\n",
       "10 hf      right 0.79±0.07 0.88±0.04\n",
       "11 hfields left  0.81±0.04 0.89±0.02\n",
       "12 hfields right 0.82±0.03 0.90±0.02\n",
       "13 ml      left  0.82±0.20 0.89±0.12\n",
       "14 ml      right 0.86±0.01 0.92±0.01\n",
       "15 rZI     left  0.78±0.14 0.87±0.09\n",
       "16 rZI     right 0.79±0.11 0.88±0.07\n",
       "17 ZI      left  0.83±0.09 0.91±0.05\n",
       "18 ZI      right 0.83±0.08 0.90±0.05"
      ]
     },
     "metadata": {},
     "output_type": "display_data"
    }
   ],
   "source": [
    "formatted_summary_zona_intrarater <- summary_zona_intrarater[,1:2]\n",
    "\n",
    "formatted_summary_zona_intrarater$jaccard <- paste0(\n",
    "    sprintf( \"%.2f\", round(summary_zona_intrarater$mean_jaccard,2)), '±',\n",
    "    sprintf( \"%.2f\", round(summary_zona_intrarater$sd_jaccard,2)))\n",
    "\n",
    "formatted_summary_zona_intrarater$kappa <- paste0(\n",
    "    sprintf( \"%.2f\", round(summary_zona_intrarater$mean_kappa,2)), '±',\n",
    "    sprintf( \"%.2f\", round(summary_zona_intrarater$sd_kappa,2)))\n",
    "\n",
    "formatted_summary_zona_intrarater\n",
    "\n",
    "write.table(formatted_summary_zona_intrarater, file = \"~/Documents/GitHub/zona-analysis/data/output_tables/SuppTable_zona_intrarater.csv\", row.names = FALSE, quote = FALSE, sep = \",\")"
   ]
  },
  {
   "cell_type": "code",
   "execution_count": 9,
   "metadata": {},
   "outputs": [
    {
     "data": {
      "text/html": [
       "<table>\n",
       "<thead><tr><th scope=col>roi</th><th scope=col>jaccard</th><th scope=col>kappa</th></tr></thead>\n",
       "<tbody>\n",
       "\t<tr><td>cZI      </td><td>0.86±0.03</td><td>0.93±0.02</td></tr>\n",
       "\t<tr><td>fct      </td><td>0.80±0.11</td><td>0.89±0.07</td></tr>\n",
       "\t<tr><td>fl       </td><td>0.77±0.12</td><td>0.87±0.08</td></tr>\n",
       "\t<tr><td>ft       </td><td>0.80±0.02</td><td>0.89±0.01</td></tr>\n",
       "\t<tr><td>hf       </td><td>0.79±0.06</td><td>0.88±0.03</td></tr>\n",
       "\t<tr><td>hfields  </td><td>0.81±0.03</td><td>0.90±0.02</td></tr>\n",
       "\t<tr><td>ml       </td><td>0.84±0.12</td><td>0.91±0.07</td></tr>\n",
       "\t<tr><td>rZI      </td><td>0.78±0.11</td><td>0.88±0.07</td></tr>\n",
       "\t<tr><td>ZI       </td><td>0.83±0.07</td><td>0.91±0.04</td></tr>\n",
       "</tbody>\n",
       "</table>\n"
      ],
      "text/latex": [
       "\\begin{tabular}{r|lll}\n",
       " roi & jaccard & kappa\\\\\n",
       "\\hline\n",
       "\t cZI       & 0.86±0.03 & 0.93±0.02\\\\\n",
       "\t fct       & 0.80±0.11 & 0.89±0.07\\\\\n",
       "\t fl        & 0.77±0.12 & 0.87±0.08\\\\\n",
       "\t ft        & 0.80±0.02 & 0.89±0.01\\\\\n",
       "\t hf        & 0.79±0.06 & 0.88±0.03\\\\\n",
       "\t hfields   & 0.81±0.03 & 0.90±0.02\\\\\n",
       "\t ml        & 0.84±0.12 & 0.91±0.07\\\\\n",
       "\t rZI       & 0.78±0.11 & 0.88±0.07\\\\\n",
       "\t ZI        & 0.83±0.07 & 0.91±0.04\\\\\n",
       "\\end{tabular}\n"
      ],
      "text/markdown": [
       "\n",
       "| roi | jaccard | kappa |\n",
       "|---|---|---|\n",
       "| cZI       | 0.86±0.03 | 0.93±0.02 |\n",
       "| fct       | 0.80±0.11 | 0.89±0.07 |\n",
       "| fl        | 0.77±0.12 | 0.87±0.08 |\n",
       "| ft        | 0.80±0.02 | 0.89±0.01 |\n",
       "| hf        | 0.79±0.06 | 0.88±0.03 |\n",
       "| hfields   | 0.81±0.03 | 0.90±0.02 |\n",
       "| ml        | 0.84±0.12 | 0.91±0.07 |\n",
       "| rZI       | 0.78±0.11 | 0.88±0.07 |\n",
       "| ZI        | 0.83±0.07 | 0.91±0.04 |\n",
       "\n"
      ],
      "text/plain": [
       "  roi     jaccard   kappa    \n",
       "1 cZI     0.86±0.03 0.93±0.02\n",
       "2 fct     0.80±0.11 0.89±0.07\n",
       "3 fl      0.77±0.12 0.87±0.08\n",
       "4 ft      0.80±0.02 0.89±0.01\n",
       "5 hf      0.79±0.06 0.88±0.03\n",
       "6 hfields 0.81±0.03 0.90±0.02\n",
       "7 ml      0.84±0.12 0.91±0.07\n",
       "8 rZI     0.78±0.11 0.88±0.07\n",
       "9 ZI      0.83±0.07 0.91±0.04"
      ]
     },
     "metadata": {},
     "output_type": "display_data"
    }
   ],
   "source": [
    "formatted_summary_zona_intrarater_noside <- summary_zona_intrarater_noside[,1:2]\n",
    "\n",
    "formatted_summary_zona_intrarater_noside$jaccard <- paste0(\n",
    "    sprintf( \"%.2f\", round(summary_zona_intrarater_noside$mean_jaccard,2)), '±',\n",
    "    sprintf( \"%.2f\", round(summary_zona_intrarater_noside$sd_jaccard,2)))\n",
    "\n",
    "formatted_summary_zona_intrarater_noside$kappa <- paste0(\n",
    "    sprintf( \"%.2f\", round(summary_zona_intrarater_noside$mean_kappa,2)), '±',\n",
    "    sprintf( \"%.2f\", round(summary_zona_intrarater_noside$sd_kappa,2)))\n",
    "\n",
    "formatted_summary_zona_intrarater_noside <- formatted_summary_zona_intrarater_noside[,c(1,3,4)]\n",
    "formatted_summary_zona_intrarater_noside\n",
    "\n",
    "write.table(formatted_summary_zona_intrarater_noside, file = \"~/Documents/GitHub/zona-analysis/data/output_tables/SuppTable_zona_intrarater_noside.csv\", row.names = FALSE, quote = FALSE, sep = \",\")"
   ]
  },
  {
   "cell_type": "code",
   "execution_count": 10,
   "metadata": {},
   "outputs": [
    {
     "data": {
      "text/plain": [
       "R version 3.6.1 (2019-07-05)\n",
       "Platform: x86_64-apple-darwin13.4.0 (64-bit)\n",
       "Running under: macOS Catalina 10.15.4\n",
       "\n",
       "Matrix products: default\n",
       "BLAS/LAPACK: /Users/jclau/anaconda3/envs/r-tutorial/lib/R/lib/libRblas.dylib\n",
       "\n",
       "locale:\n",
       "[1] en_CA.UTF-8/UTF-8/en_CA.UTF-8/C/en_CA.UTF-8/en_CA.UTF-8\n",
       "\n",
       "attached base packages:\n",
       "[1] stats     graphics  grDevices utils     datasets  methods   base     \n",
       "\n",
       "other attached packages:\n",
       "[1] ggplot2_3.1.1  reshape2_1.4.3 digest_0.6.18  dplyr_0.8.0.1  plyr_1.8.4    \n",
       "\n",
       "loaded via a namespace (and not attached):\n",
       " [1] Rcpp_1.0.1       magrittr_1.5     munsell_0.5.0    tidyselect_0.2.5\n",
       " [5] uuid_0.1-2       colorspace_1.4-1 R6_2.4.0         rlang_0.3.4     \n",
       " [9] stringr_1.4.0    tools_3.6.1      grid_3.6.1       gtable_0.3.0    \n",
       "[13] withr_2.1.2      htmltools_0.3.6  lazyeval_0.2.2   assertthat_0.2.1\n",
       "[17] tibble_2.1.1     crayon_1.3.4     IRdisplay_0.7.0  purrr_0.3.2     \n",
       "[21] repr_0.19.2      base64enc_0.1-3  IRkernel_0.8.15  glue_1.3.1      \n",
       "[25] evaluate_0.13    pbdZMQ_0.3-3     stringi_1.4.3    compiler_3.6.1  \n",
       "[29] pillar_1.3.1     scales_1.0.0     jsonlite_1.6     pkgconfig_2.0.2 "
      ]
     },
     "metadata": {},
     "output_type": "display_data"
    }
   ],
   "source": [
    "sessionInfo()"
   ]
  }
 ],
 "metadata": {
  "kernelspec": {
   "display_name": "R",
   "language": "R",
   "name": "ir"
  },
  "language_info": {
   "codemirror_mode": "r",
   "file_extension": ".r",
   "mimetype": "text/x-r-source",
   "name": "R",
   "pygments_lexer": "r",
   "version": "3.6.1"
  }
 },
 "nbformat": 4,
 "nbformat_minor": 2
}
